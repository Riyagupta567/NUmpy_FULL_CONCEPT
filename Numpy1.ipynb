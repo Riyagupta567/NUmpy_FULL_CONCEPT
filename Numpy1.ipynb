{
  "nbformat": 4,
  "nbformat_minor": 0,
  "metadata": {
    "colab": {
      "provenance": []
    },
    "kernelspec": {
      "name": "python3",
      "display_name": "Python 3"
    },
    "language_info": {
      "name": "python"
    }
  },
  "cells": [
    {
      "cell_type": "markdown",
      "source": [
        "# ***What is Numpy***\n",
        "\n",
        "\n",
        "\n",
        "\n",
        "*   Numpy Stands for numerical python\n",
        "*   Numpy is python library used for working in python array\n",
        "\n",
        "*   It has funtions for working in domain linear algebra fourier transform, and matrices.\n",
        "\n",
        "*  Numpy is created in 2005 by travis oliphant. it is open source so that any one can use it freely\n",
        "\n",
        "\n",
        "\n"
      ],
      "metadata": {
        "id": "esWbkOWrMQMH"
      }
    },
    {
      "cell_type": "markdown",
      "source": [
        "**Why Numpy**\n",
        "\n",
        "*   In python we have list instant of array that is very slow to process\n",
        "*   Numpy is providing Array object that is 50X faster then ordinary list\n",
        "*   array are frequntly used in data Science that why speed and resources are very important\n",
        "\n",
        "\n",
        "Note== Numpay array is faster then list because numpy array are stored in continous place in memory unlike list\n",
        "\n",
        "* Numpy is python library and its written partially in python but most of the part required fast  computation are written in C and C++\n",
        "\n",
        "\n",
        "\n"
      ],
      "metadata": {
        "id": "BT4r-evewXZX"
      }
    },
    {
      "cell_type": "markdown",
      "source": [
        "**Six Ways of Making Array**\n",
        "\n",
        "\n",
        "1.   Array()\n",
        "\n",
        "1.   linespace()\n",
        "\n",
        "1.   longspace()\n",
        "2.   arrange()\n",
        "\n",
        "5.   zeros()\n",
        "\n",
        "6.   ones()\n",
        "\n"
      ],
      "metadata": {
        "id": "6kI7QWbPFBah"
      }
    },
    {
      "cell_type": "markdown",
      "source": [
        "***array()***"
      ],
      "metadata": {
        "id": "Z6TcPrHzKXbH"
      }
    },
    {
      "cell_type": "code",
      "source": [
        "from numpy import *\n",
        "arr=array([1,2,3,4,7,3])\n",
        "print(arr)\n",
        "\n",
        "# if we convert one element of array of other type then all element will be converted to that type\n",
        "\n",
        "arr1=array([1,2,3,2,4.1])\n",
        "print(arr1)\n",
        "print(arr1.dtype)\n",
        "\n",
        "#another way of typecast to different datatype\n",
        "\n",
        "arr2=array([6,8,3,4,6,9],float)\n",
        "print(arr2)"
      ],
      "metadata": {
        "colab": {
          "base_uri": "https://localhost:8080/"
        },
        "id": "xaJ71n7tKWMF",
        "outputId": "322ad993-34ff-483a-f728-7d83b64284f7"
      },
      "execution_count": null,
      "outputs": [
        {
          "output_type": "stream",
          "name": "stdout",
          "text": [
            "[1 2 3 4 7 3]\n",
            "[1.  2.  3.  2.  4.1]\n",
            "float64\n",
            "[6. 8. 3. 4. 6. 9.]\n"
          ]
        }
      ]
    },
    {
      "cell_type": "markdown",
      "source": [
        "*Some operations in numpy array*"
      ],
      "metadata": {
        "id": "_J7qlpt_PO-D"
      }
    },
    {
      "cell_type": "code",
      "source": [
        "\n",
        "arr=array([1,2,3,4,7])\n",
        "arr=arr+5\n",
        "print(arr)"
      ],
      "metadata": {
        "colab": {
          "base_uri": "https://localhost:8080/"
        },
        "id": "oKEgtYfcM0y0",
        "outputId": "83e96251-5772-46a2-e7a3-34989cee9f68"
      },
      "execution_count": null,
      "outputs": [
        {
          "output_type": "stream",
          "name": "stdout",
          "text": [
            "[ 6  7  8  9 12]\n"
          ]
        }
      ]
    },
    {
      "cell_type": "code",
      "source": [
        "arrX=array([4,16,9,64])\n",
        "arr2=array([17,7,11,13])\n",
        "arr3=arrX+arr2\n",
        "print(arr3)"
      ],
      "metadata": {
        "colab": {
          "base_uri": "https://localhost:8080/"
        },
        "id": "Cc-VCGOeRVJT",
        "outputId": "f40a85f1-c8b2-4ada-8b38-7cb44716841e"
      },
      "execution_count": null,
      "outputs": [
        {
          "output_type": "stream",
          "name": "stdout",
          "text": [
            "[21 23 20 77]\n"
          ]
        }
      ]
    },
    {
      "cell_type": "code",
      "source": [
        "print(sqrt(arrX))\n",
        "print(min(arrX))\n",
        "print(max(arrX))\n",
        "print(log(arrX))"
      ],
      "metadata": {
        "colab": {
          "base_uri": "https://localhost:8080/"
        },
        "id": "3HL2KOtpR024",
        "outputId": "34db1d6f-acad-41ce-da9a-e66dbca4d690"
      },
      "execution_count": null,
      "outputs": [
        {
          "output_type": "stream",
          "name": "stdout",
          "text": [
            "[2. 4. 3. 8.]\n",
            "4\n",
            "64\n",
            "[1.38629436 2.77258872 2.19722458 4.15888308]\n"
          ]
        }
      ]
    },
    {
      "cell_type": "markdown",
      "source": [
        "concatenate two array"
      ],
      "metadata": {
        "id": "V4AQEd_Y6ROU"
      }
    },
    {
      "cell_type": "code",
      "source": [
        "ary1=array([1,3,5,6,11])\n",
        "ary2=array([8,9,22,23,1])\n",
        "print(concatenate([ary1,ary2]))"
      ],
      "metadata": {
        "colab": {
          "base_uri": "https://localhost:8080/"
        },
        "id": "dXMNxO1K484L",
        "outputId": "2a0ba80b-146c-485f-952c-709df54af617"
      },
      "execution_count": null,
      "outputs": [
        {
          "output_type": "stream",
          "name": "stdout",
          "text": [
            "[ 1  3  5  6 11  8  9 22 23  1]\n"
          ]
        }
      ]
    },
    {
      "cell_type": "markdown",
      "source": [
        "creating Two D array"
      ],
      "metadata": {
        "id": "WbJilKiZ65Ql"
      }
    },
    {
      "cell_type": "code",
      "source": [
        "arrry=array([[1,2,3,4],[4,7,8,9]])\n",
        "print(arrry)"
      ],
      "metadata": {
        "colab": {
          "base_uri": "https://localhost:8080/"
        },
        "id": "I17T2gzq6ZJZ",
        "outputId": "ea891485-32a0-4450-fda0-381cf286184b"
      },
      "execution_count": null,
      "outputs": [
        {
          "output_type": "stream",
          "name": "stdout",
          "text": [
            "[[1 2 3 4]\n",
            " [4 7 8 9]]\n"
          ]
        }
      ]
    },
    {
      "cell_type": "markdown",
      "source": [
        "creating 3D array =You can create it with two 2D array"
      ],
      "metadata": {
        "id": "qAlg8NYV733B"
      }
    },
    {
      "cell_type": "code",
      "source": [
        "arrry1=array([[[1,2,3],[4,5,0]],[[11,34,5],[12,34,67]]])\n",
        "print(arrry1)"
      ],
      "metadata": {
        "colab": {
          "base_uri": "https://localhost:8080/"
        },
        "id": "O8ppjQia8Yi_",
        "outputId": "5ff75ba3-f7b8-4c6d-8c5e-b6d671d058ba"
      },
      "execution_count": null,
      "outputs": [
        {
          "output_type": "stream",
          "name": "stdout",
          "text": [
            "[[[ 1  2  3]\n",
            "  [ 4  5  0]]\n",
            "\n",
            " [[11 34  5]\n",
            "  [12 34 67]]]\n"
          ]
        }
      ]
    },
    {
      "cell_type": "markdown",
      "source": [
        "Chaking Diamention of array"
      ],
      "metadata": {
        "id": "bBQDTISR9k3n"
      }
    },
    {
      "cell_type": "code",
      "source": [
        "a=array(11)\n",
        "b=array([1,2,3,4])\n",
        "c=array([[1,2,3],[6,7,8]])\n",
        "d=array([[[1,2,2],[6,7,9]],[[1,1,0],[9,8,9]]])\n",
        "\n",
        "print(a.ndim)\n",
        "print(b.ndim)\n",
        "print(c.ndim)\n",
        "print(d.ndim)"
      ],
      "metadata": {
        "colab": {
          "base_uri": "https://localhost:8080/"
        },
        "id": "SyR5CT249v43",
        "outputId": "759c60a5-99ca-4c9f-cec2-ebb9be04ced7"
      },
      "execution_count": null,
      "outputs": [
        {
          "output_type": "stream",
          "name": "stdout",
          "text": [
            "0\n",
            "1\n",
            "2\n",
            "3\n"
          ]
        }
      ]
    },
    {
      "cell_type": "markdown",
      "source": [
        "Creating higher dimention array"
      ],
      "metadata": {
        "id": "Z8qu-022_iNv"
      }
    },
    {
      "cell_type": "code",
      "source": [
        "var1=array([1,3,5,6,7,8,3],ndmin=5)\n",
        "print(var1.ndim)\n",
        "print(var1)"
      ],
      "metadata": {
        "colab": {
          "base_uri": "https://localhost:8080/"
        },
        "id": "c2UeiiV2_ped",
        "outputId": "06032a72-9e19-4a1b-9053-a0bd35970efb"
      },
      "execution_count": null,
      "outputs": [
        {
          "output_type": "stream",
          "name": "stdout",
          "text": [
            "5\n",
            "[[[[[1 3 5 6 7 8 3]]]]]\n"
          ]
        }
      ]
    },
    {
      "cell_type": "code",
      "source": [
        "var2=array([[1,2,3],[6,7,9]],ndmin=5)\n",
        "print(var2)"
      ],
      "metadata": {
        "colab": {
          "base_uri": "https://localhost:8080/"
        },
        "id": "dYptM-BPAGAz",
        "outputId": "11278f05-6e57-401d-8dcd-bcc12f3e445e"
      },
      "execution_count": null,
      "outputs": [
        {
          "output_type": "stream",
          "name": "stdout",
          "text": [
            "[[[[[1 2 3]\n",
            "    [6 7 9]]]]]\n"
          ]
        }
      ]
    },
    {
      "cell_type": "markdown",
      "source": [
        "Indexing in NumPy array"
      ],
      "metadata": {
        "id": "hmI4E9UWCY7B"
      }
    },
    {
      "cell_type": "code",
      "source": [
        "num1=array([1,2,3,4,5,6])\n",
        "num2=array([[1,2,3],[1,0,8]])\n",
        "num3=array([[[1,7,0],[0,2,3]],[[1,9,7],[4,8,0]]])\n",
        "\n",
        "print(num1[2])           #for one dimention array\n",
        "print(num2[1,1])         #for two dimention array\n",
        "print(num3[1,1,0])       #for three dimention array\n",
        "\n",
        "\n",
        "\n",
        "print(num2[0][1])       # you can do slicing in this way\n"
      ],
      "metadata": {
        "colab": {
          "base_uri": "https://localhost:8080/"
        },
        "id": "BcTmqSgcCdyd",
        "outputId": "cd1f12b9-86ff-4c10-c1a0-93dee6073e63"
      },
      "execution_count": null,
      "outputs": [
        {
          "output_type": "stream",
          "name": "stdout",
          "text": [
            "3\n",
            "0\n",
            "4\n",
            "2\n"
          ]
        }
      ]
    },
    {
      "cell_type": "markdown",
      "source": [
        "Negative indexing in Numpy array"
      ],
      "metadata": {
        "id": "ZSVqxrhiGtMP"
      }
    },
    {
      "cell_type": "code",
      "source": [
        "print(num1[-3])               #negative indexing in one dimention\n",
        "print(num2[-1,-1])            #negative indexing in two dimention\n",
        "print(num3[-1,-2,-1])         #negative indexing in three dimention"
      ],
      "metadata": {
        "colab": {
          "base_uri": "https://localhost:8080/"
        },
        "id": "EmcBEiU0G00m",
        "outputId": "cc7fca74-a260-46b4-b667-6ce51eb4fcb1"
      },
      "execution_count": null,
      "outputs": [
        {
          "output_type": "stream",
          "name": "stdout",
          "text": [
            "4\n",
            "8\n",
            "7\n"
          ]
        }
      ]
    },
    {
      "cell_type": "markdown",
      "source": [
        "Slicing Numpay array\n",
        "\n",
        "Slicing=[start:end]   note-end is excluded\n",
        "\n",
        "slicing=[start:end:step]"
      ],
      "metadata": {
        "id": "2S67xqk1bJ8Z"
      }
    },
    {
      "cell_type": "markdown",
      "source": [
        "1D array"
      ],
      "metadata": {
        "id": "LcSXMvMXbeWv"
      }
    },
    {
      "cell_type": "code",
      "source": [
        "from IPython.core.application import ProfileDir\n",
        "num3=array([1,2,4,5,6,8])\n",
        "print(\"simple slicing\")\n",
        "print(num3[:4])\n",
        "print(num3[1:])\n",
        "print(num3[1:3])\n",
        "print(num3[:])\n",
        "\n",
        "#Negative Slicing\n",
        "print(\"Slicing using negative index\")\n",
        "print(num3[:-3])\n",
        "print(num3[-5:])\n",
        "print(num3[-5:-2])\n",
        "\n",
        "\n",
        "#including steps in slicing\n",
        "print(\"slicing using step perameter\")\n",
        "print(num3[0:5:2])\n",
        "print(num3[0:5:1])\n",
        "\n",
        "#reversing a list using slicing\n",
        "print(\"Inverse of list\")\n",
        "print(num3[::-1])"
      ],
      "metadata": {
        "colab": {
          "base_uri": "https://localhost:8080/"
        },
        "id": "AK5OZL5ebfBa",
        "outputId": "2bdc5217-2882-4949-ca40-ede4ffdb59bf"
      },
      "execution_count": null,
      "outputs": [
        {
          "output_type": "stream",
          "name": "stdout",
          "text": [
            "simple slicing\n",
            "[1 2 4 5]\n",
            "[2 4 5 6 8]\n",
            "[2 4]\n",
            "[1 2 4 5 6 8]\n",
            "Slicing using negative index\n",
            "[1 2 4]\n",
            "[2 4 5 6 8]\n",
            "[2 4 5]\n",
            "slicing using step perameter\n",
            "[1 4 6]\n",
            "[1 2 4 5 6]\n",
            "Inverse of list\n",
            "[8 6 5 4 2 1]\n"
          ]
        }
      ]
    },
    {
      "cell_type": "markdown",
      "source": [
        "Slicing in 2D array"
      ],
      "metadata": {
        "id": "DmjV-eT0i0K_"
      }
    },
    {
      "cell_type": "markdown",
      "source": [
        "\n",
        "                   0 1 2 3 4\n",
        "              0  [[1,2,3,4,5]\n",
        "              1   [5,8,9,0,10]\n",
        "              2   [2,4,5,8,10]]             "
      ],
      "metadata": {
        "id": "RDp9B5C_tLoP"
      }
    },
    {
      "cell_type": "code",
      "source": [
        "varr1=array([[1,3,5,8,9],[9,5,7,0,11],[0,7,8,5,7],[2,11,2,3,5]])\n",
        "print(varr1)\n",
        "print(varr1.ndim)\n",
        "print(\"\\n\")\n",
        "print(varr1[1:3])\n",
        "print(\"\\n\")\n",
        "print(varr1[2:3])\n",
        "print(\"\\n\")\n",
        "print(varr1[:3])\n"
      ],
      "metadata": {
        "colab": {
          "base_uri": "https://localhost:8080/"
        },
        "id": "Hj-Msyd0iybS",
        "outputId": "49ff7115-9a43-4fbd-8cfe-e8cd2109a8c6"
      },
      "execution_count": null,
      "outputs": [
        {
          "output_type": "stream",
          "name": "stdout",
          "text": [
            "[[ 1  3  5  8  9]\n",
            " [ 9  5  7  0 11]\n",
            " [ 0  7  8  5  7]\n",
            " [ 2 11  2  3  5]]\n",
            "2\n",
            "\n",
            "\n",
            "[[ 9  5  7  0 11]\n",
            " [ 0  7  8  5  7]]\n",
            "\n",
            "\n",
            "[[0 7 8 5 7]]\n",
            "\n",
            "\n",
            "[[ 1  3  5  8  9]\n",
            " [ 9  5  7  0 11]\n",
            " [ 0  7  8  5  7]]\n"
          ]
        }
      ]
    },
    {
      "cell_type": "code",
      "source": [
        "# if we want first two column of 2D array\n",
        "print(varr1[0:4,:2])\n",
        "\n"
      ],
      "metadata": {
        "colab": {
          "base_uri": "https://localhost:8080/"
        },
        "id": "epuKlTMyy-Rk",
        "outputId": "ee4aac4a-5792-49d2-fe77-c962a7abeaea"
      },
      "execution_count": null,
      "outputs": [
        {
          "output_type": "stream",
          "name": "stdout",
          "text": [
            "[[ 1  3]\n",
            " [ 9  5]\n",
            " [ 0  7]\n",
            " [ 2 11]]\n"
          ]
        }
      ]
    },
    {
      "cell_type": "code",
      "source": [
        "print(varr1)\n",
        "# suppose we want part 5,7,3,5 out of 2D array\n",
        "print(varr1[2:4,3:5])"
      ],
      "metadata": {
        "colab": {
          "base_uri": "https://localhost:8080/"
        },
        "id": "HNEpOd-d0-F6",
        "outputId": "62ce1495-3559-4589-b833-c59b1a621951"
      },
      "execution_count": null,
      "outputs": [
        {
          "output_type": "stream",
          "name": "stdout",
          "text": [
            "[[ 1  3  5  8  9]\n",
            " [ 9  5  7  0 11]\n",
            " [ 0  7  8  5  7]\n",
            " [ 2 11  2  3  5]]\n",
            "[[5 7]\n",
            " [3 5]]\n"
          ]
        }
      ]
    },
    {
      "cell_type": "markdown",
      "source": [
        "`copying array`"
      ],
      "metadata": {
        "id": "yF0G_dSk4Mar"
      }
    },
    {
      "cell_type": "markdown",
      "source": [
        "*Aliasing* : If same memory block have more then one variable name is known as aliasing\n"
      ],
      "metadata": {
        "id": "cq2VV6AvAk6G"
      }
    },
    {
      "cell_type": "code",
      "source": [
        "var12=array([1,3,4,5,8,9])\n",
        "var13=var12\n",
        "print(var13)\n",
        "print(id(var12))\n",
        "print(id(var13))"
      ],
      "metadata": {
        "colab": {
          "base_uri": "https://localhost:8080/"
        },
        "id": "7LxeQS-L3sTE",
        "outputId": "da58cc08-d0bf-49b1-a933-4fad53bd8200"
      },
      "execution_count": null,
      "outputs": [
        {
          "output_type": "stream",
          "name": "stdout",
          "text": [
            "[1 3 4 5 8 9]\n",
            "135863373352656\n",
            "135863373352656\n"
          ]
        }
      ]
    },
    {
      "cell_type": "markdown",
      "source": [
        "As you can see both array have same address therefore that means they are actually sharing same memory block this is known as Aliasing here we are not creating a shaperate array we are giving another name of same memory block"
      ],
      "metadata": {
        "id": "Slc9Q3HjCvAI"
      }
    },
    {
      "cell_type": "markdown",
      "source": [
        "*`Shallow copy`* :-It means that it copy the element but still both copy will be dependent of each other\n",
        "\n",
        "`note`:- for shallow copy in numpay array we use view() funtion\n",
        "\n",
        "*Example*"
      ],
      "metadata": {
        "id": "IEi49Up4Dz8M"
      }
    },
    {
      "cell_type": "code",
      "source": [
        "arr1=array([1,2,3,5,8,9])\n",
        "arr2=arr1.view()\n",
        "print(arr2)\n",
        "arr2[2]=11\n",
        "print(arr1)"
      ],
      "metadata": {
        "colab": {
          "base_uri": "https://localhost:8080/"
        },
        "id": "stUtkayzEomL",
        "outputId": "57d8a3b5-9014-491b-d86a-c3a3910c0885"
      },
      "execution_count": null,
      "outputs": [
        {
          "output_type": "stream",
          "name": "stdout",
          "text": [
            "[1 2 3 5 8 9]\n",
            "[ 1  2 11  5  8  9]\n"
          ]
        }
      ]
    },
    {
      "cell_type": "markdown",
      "source": [
        "In the above example you can see that on changing arr2 we find a change in arr1 automatically"
      ],
      "metadata": {
        "id": "wlcPY7lFFh4y"
      }
    },
    {
      "cell_type": "markdown",
      "source": [
        "Deep Copy: changes in one array will not effect the other array\n",
        "\n",
        "*Example*"
      ],
      "metadata": {
        "id": "psmL262CGrrL"
      }
    },
    {
      "cell_type": "code",
      "source": [
        "arr1=[1,2,3,4,8]\n",
        "arr2=arr1.copy()\n",
        "arr2[0]=11\n",
        "print(arr1)\n",
        "print(arr2)"
      ],
      "metadata": {
        "id": "SStXfk2MGhV5",
        "colab": {
          "base_uri": "https://localhost:8080/"
        },
        "outputId": "f2d59530-3925-4660-8546-3a91711c906c"
      },
      "execution_count": null,
      "outputs": [
        {
          "output_type": "stream",
          "name": "stdout",
          "text": [
            "[1, 2, 3, 4, 8]\n",
            "[11, 2, 3, 4, 8]\n"
          ]
        }
      ]
    },
    {
      "cell_type": "markdown",
      "source": [
        "Here you can clearly see that change in copied array is not reflected in another array\n",
        "\n",
        "The main difference between a copy and a view of an array is that the copy is a new array, and the view is just a view of the original array."
      ],
      "metadata": {
        "id": "Lica4b9Z_c_H"
      }
    },
    {
      "cell_type": "markdown",
      "source": [
        "`Numpy Array Shape`"
      ],
      "metadata": {
        "id": "K0Bn9QRODZ0j"
      }
    },
    {
      "cell_type": "markdown",
      "source": [
        "*   The shape of an array is the number of elements in each dimension.\n",
        "*   It simply return numbers of row and column inside a tuple\n",
        "\n"
      ],
      "metadata": {
        "id": "Cmaqh51yEWZ-"
      }
    },
    {
      "cell_type": "code",
      "source": [
        "var1=array([1,2,3,4])\n",
        "var2=array([[1,3,5,6],[2,4,6,8]])\n",
        "var3=array([[[1,7,8],[3,4,5]],[[2,4,5],[24,3,9]]])\n",
        "print(var1.shape)\n",
        "print(var2.shape)\n",
        "print(var3.shape)"
      ],
      "metadata": {
        "id": "Ro7sUKZ2DmWp",
        "colab": {
          "base_uri": "https://localhost:8080/"
        },
        "outputId": "d222bfab-c67e-4594-b6e5-9b50f5f0429f"
      },
      "execution_count": null,
      "outputs": [
        {
          "output_type": "stream",
          "name": "stdout",
          "text": [
            "(4,)\n",
            "(2, 4)\n",
            "(2, 2, 3)\n"
          ]
        }
      ]
    },
    {
      "cell_type": "markdown",
      "source": [
        "In the above example (2,4) tells that it is two dimention array and first dimention contain two element and second one consist four element."
      ],
      "metadata": {
        "id": "-xHSxhxhH96K"
      }
    },
    {
      "cell_type": "code",
      "source": [
        "arr12=array([1,6,9,0,3,0,2],ndmin=5)\n",
        "print(arr12.shape)"
      ],
      "metadata": {
        "colab": {
          "base_uri": "https://localhost:8080/"
        },
        "id": "tXQ8D5qvImzB",
        "outputId": "f0e2ad1b-d2df-4980-a548-caa606dcb284"
      },
      "execution_count": null,
      "outputs": [
        {
          "output_type": "stream",
          "name": "stdout",
          "text": [
            "(1, 1, 1, 1, 7)\n"
          ]
        }
      ]
    },
    {
      "cell_type": "markdown",
      "source": [
        "## `Reshaping Array`\n",
        "1.   shape of array means number of element in each dimention\n",
        "2.   Reshaping means changing the shape of array. by reshaping we can add or remove dimention or change number of element in each dimention\n",
        "\n"
      ],
      "metadata": {
        "id": "qInnOqpWLprs"
      }
    },
    {
      "cell_type": "markdown",
      "source": [
        "*coversion of 1D array to 2D array*"
      ],
      "metadata": {
        "id": "sJrDqmF9CwQ1"
      }
    },
    {
      "cell_type": "code",
      "source": [
        "arr1=array([1,5,7,8,9,4,3,3,4,0,4,2])\n",
        "newarr=arr1.reshape(4,3)\n",
        "print(newarr)"
      ],
      "metadata": {
        "id": "mS5qw2Q_LnpV",
        "colab": {
          "base_uri": "https://localhost:8080/"
        },
        "outputId": "4eaf363b-e4ad-4e47-8e04-dbaea4135057"
      },
      "execution_count": null,
      "outputs": [
        {
          "output_type": "stream",
          "name": "stdout",
          "text": [
            "[[1 5 7]\n",
            " [8 9 4]\n",
            " [3 3 4]\n",
            " [0 4 2]]\n"
          ]
        }
      ]
    },
    {
      "cell_type": "markdown",
      "source": [
        "*conversion of 1D array to 3D*"
      ],
      "metadata": {
        "id": "jkM3sspZC4d-"
      }
    },
    {
      "cell_type": "code",
      "source": [
        "arr24=array([1,3,4,5,6,4,3,2,1,0,33,11])\n",
        "newarr12=arr24.reshape(2,3,2)\n",
        "print(newarr12)"
      ],
      "metadata": {
        "colab": {
          "base_uri": "https://localhost:8080/"
        },
        "id": "sJqXfmucDTz7",
        "outputId": "744c6bcd-2823-4b9a-aee7-63c1e0fcec29"
      },
      "execution_count": null,
      "outputs": [
        {
          "output_type": "stream",
          "name": "stdout",
          "text": [
            "[[[ 1  3]\n",
            "  [ 4  5]\n",
            "  [ 6  4]]\n",
            "\n",
            " [[ 3  2]\n",
            "  [ 1  0]\n",
            "  [33 11]]]\n"
          ]
        }
      ]
    },
    {
      "cell_type": "markdown",
      "source": [
        "*Rule for reshaping array*\n",
        "\n",
        "you cannot reshape if the element required for reshaping is not sufficent suppose there is 8 element in array then you can create array of dimenetion (2,4) or (4,2) because 4*2 =8 that means elements are equal in both array"
      ],
      "metadata": {
        "id": "Mb1JngBdEV_l"
      }
    },
    {
      "cell_type": "markdown",
      "source": [
        "reshape give you view of array not copy of array"
      ],
      "metadata": {
        "id": "-bfzSACNGeMz"
      }
    },
    {
      "cell_type": "markdown",
      "source": [
        "*`Unknown Dimension `*"
      ],
      "metadata": {
        "id": "n5tXrRFfI_q8"
      }
    },
    {
      "cell_type": "markdown",
      "source": [
        "You are allowed to have one unknown dimention that you are you do not have to specify an exact number for one of the dimensions in the reshape method.\n",
        "Pass -1 as the value, and NumPy will calculate this number for you."
      ],
      "metadata": {
        "id": "YiVs8N6wJLSa"
      }
    },
    {
      "cell_type": "code",
      "source": [
        "xyz=array([1,9,0,22,11,2,3,4,6,7,2,1])\n",
        "newarry=xyz.reshape(2,2,-1)\n",
        "print(newarry)"
      ],
      "metadata": {
        "colab": {
          "base_uri": "https://localhost:8080/"
        },
        "id": "oo9GahJdNZd-",
        "outputId": "be92d8bf-5486-4ec7-d207-491532313e4b"
      },
      "execution_count": null,
      "outputs": [
        {
          "output_type": "stream",
          "name": "stdout",
          "text": [
            "[[[ 1  9  0]\n",
            "  [22 11  2]]\n",
            "\n",
            " [[ 3  4  6]\n",
            "  [ 7  2  1]]]\n"
          ]
        }
      ]
    },
    {
      "cell_type": "markdown",
      "source": [
        "Flattening in array\n",
        "\n",
        "Flattening array means converting multidimentional array in 1D\n",
        "\n",
        "use reshape(-1) or flatten() funtion\n",
        "\n"
      ],
      "metadata": {
        "id": "ZK166-b6R8LP"
      }
    },
    {
      "cell_type": "code",
      "source": [
        "arr2D=array([[[1,2,4,5],[6,9,0,2],[1,0,8,4]],[[2,4,5,6],[1,9,0,4],[7,9,0,8]]])\n",
        "print(arr2D.reshape(-1))\n",
        "print(arr2D.flatten())"
      ],
      "metadata": {
        "colab": {
          "base_uri": "https://localhost:8080/"
        },
        "id": "41rqqKsOR6-M",
        "outputId": "41a65efa-0efd-4125-f9f4-548f16699110"
      },
      "execution_count": null,
      "outputs": [
        {
          "output_type": "stream",
          "name": "stdout",
          "text": [
            "[1 2 4 5 6 9 0 2 1 0 8 4 2 4 5 6 1 9 0 4 7 9 0 8]\n",
            "[1 2 4 5 6 9 0 2 1 0 8 4 2 4 5 6 1 9 0 4 7 9 0 8]\n"
          ]
        }
      ]
    }
  ]
}