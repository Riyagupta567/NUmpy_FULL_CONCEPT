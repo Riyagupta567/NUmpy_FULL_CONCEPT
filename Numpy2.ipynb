{
  "nbformat": 4,
  "nbformat_minor": 0,
  "metadata": {
    "colab": {
      "provenance": []
    },
    "kernelspec": {
      "name": "python3",
      "display_name": "Python 3"
    },
    "language_info": {
      "name": "python"
    }
  },
  "cells": [
    {
      "cell_type": "markdown",
      "source": [
        "## Iteration in Numpy"
      ],
      "metadata": {
        "id": "ZYMjHcJdw8fu"
      }
    },
    {
      "cell_type": "code",
      "execution_count": 1,
      "metadata": {
        "colab": {
          "base_uri": "https://localhost:8080/"
        },
        "id": "wKN-ourzsphk",
        "outputId": "6af63ccd-3d24-4382-be33-4a3c05677e33"
      },
      "outputs": [
        {
          "output_type": "stream",
          "name": "stdout",
          "text": [
            "1 9 0 8 7 4 5 "
          ]
        }
      ],
      "source": [
        "from numpy import *\n",
        "arr1=array([1,9,0,8,7,4,5])\n",
        "for i in arr1:\n",
        "  print(i,end=\" \")"
      ]
    },
    {
      "cell_type": "code",
      "source": [
        "arr2=array([[1,2,3],[4,5,6],[0,9,1]])\n",
        "for i in arr2:\n",
        "  print(i)"
      ],
      "metadata": {
        "colab": {
          "base_uri": "https://localhost:8080/"
        },
        "id": "ntERLLAEyplc",
        "outputId": "625897d4-d846-4361-c021-ff896c738809"
      },
      "execution_count": 2,
      "outputs": [
        {
          "output_type": "stream",
          "name": "stdout",
          "text": [
            "[1 2 3]\n",
            "[4 5 6]\n",
            "[0 9 1]\n"
          ]
        }
      ]
    },
    {
      "cell_type": "code",
      "source": [
        "arr3=array([[[1,2,3],[8,9,0],[0,8,2]],[[2,9,0],[2,0,3],[9,0,2]]])\n",
        "print(arr3)\n",
        "for i in arr3:\n",
        "  print(\"It gives 2D array\")\n",
        "  print(i)\n"
      ],
      "metadata": {
        "colab": {
          "base_uri": "https://localhost:8080/"
        },
        "id": "wGi7UdwDzgf2",
        "outputId": "1a6c81d9-d6cf-460f-ebd4-cd31115b0a93"
      },
      "execution_count": 3,
      "outputs": [
        {
          "output_type": "stream",
          "name": "stdout",
          "text": [
            "[[[1 2 3]\n",
            "  [8 9 0]\n",
            "  [0 8 2]]\n",
            "\n",
            " [[2 9 0]\n",
            "  [2 0 3]\n",
            "  [9 0 2]]]\n",
            "It gives 2D array\n",
            "[[1 2 3]\n",
            " [8 9 0]\n",
            " [0 8 2]]\n",
            "It gives 2D array\n",
            "[[2 9 0]\n",
            " [2 0 3]\n",
            " [9 0 2]]\n"
          ]
        }
      ]
    },
    {
      "cell_type": "markdown",
      "source": [
        "## `Numpy Axis`       \n",
        "                      --->\n",
        "                      axix 1\n",
        "                  [[1,2,3,0]\n",
        "          axis 0   [2,0,3,4]\n",
        "                   [1,1,0,0]]"
      ],
      "metadata": {
        "id": "PhwRYCwbB2mW"
      }
    },
    {
      "cell_type": "code",
      "source": [
        "arr23=array([[1,2,3],[4,5,7],[2,0,9]])\n",
        "print(arr23)\n",
        "print(\"sum of element of axis 0\")\n",
        "print(arr23.sum(axis=0))\n",
        "print(\"sum of element of axis 1\")\n",
        "print(arr23.sum(axis=1))"
      ],
      "metadata": {
        "colab": {
          "base_uri": "https://localhost:8080/"
        },
        "id": "zDl0oPYuEFeS",
        "outputId": "b1de9b79-743b-48db-8353-fe2b170b7399"
      },
      "execution_count": 4,
      "outputs": [
        {
          "output_type": "stream",
          "name": "stdout",
          "text": [
            "[[1 2 3]\n",
            " [4 5 7]\n",
            " [2 0 9]]\n",
            "sum of element of axis 0\n",
            "[ 7  7 19]\n",
            "sum of element of axis 1\n",
            "[ 6 16 11]\n"
          ]
        }
      ]
    },
    {
      "cell_type": "markdown",
      "source": [
        "for finding transpose of array"
      ],
      "metadata": {
        "id": "8zwOXTjqGF7O"
      }
    },
    {
      "cell_type": "code",
      "source": [
        "print(arr23.T)\n",
        "print(arr23.nbytes)   #total bytes consumed"
      ],
      "metadata": {
        "colab": {
          "base_uri": "https://localhost:8080/"
        },
        "id": "UabtNFk2IHV7",
        "outputId": "a68b4d0c-2ae9-4546-916e-58e373fbdb11"
      },
      "execution_count": 5,
      "outputs": [
        {
          "output_type": "stream",
          "name": "stdout",
          "text": [
            "[[1 4 2]\n",
            " [2 5 0]\n",
            " [3 7 9]]\n",
            "72\n"
          ]
        }
      ]
    },
    {
      "cell_type": "markdown",
      "source": [
        "## Joining two arrays\n",
        "\n"
      ],
      "metadata": {
        "id": "11CmQGADIgnl"
      }
    },
    {
      "cell_type": "code",
      "source": [
        "arr8=array([1,23,11])\n",
        "arr9=array([0,1,3])\n",
        "print(concatenate((arr8,arr9)))"
      ],
      "metadata": {
        "colab": {
          "base_uri": "https://localhost:8080/"
        },
        "id": "NZyhX2qzIGsh",
        "outputId": "cc030345-c313-4821-e14f-390410ac3ff6"
      },
      "execution_count": 6,
      "outputs": [
        {
          "output_type": "stream",
          "name": "stdout",
          "text": [
            "[ 1 23 11  0  1  3]\n"
          ]
        }
      ]
    },
    {
      "cell_type": "code",
      "source": [
        "arr23=array([[1,2,3],[3,4,6]])\n",
        "arr24=array([[7,8,9],[0,5,6]])\n",
        "arr45=concatenate((arr23,arr24),axis=1)\n",
        "print(arr45)"
      ],
      "metadata": {
        "colab": {
          "base_uri": "https://localhost:8080/"
        },
        "id": "1Y8kOhN-KEtB",
        "outputId": "b187585b-be3e-40b5-8c5f-e8c9f7e80a0d"
      },
      "execution_count": 7,
      "outputs": [
        {
          "output_type": "stream",
          "name": "stdout",
          "text": [
            "[[1 2 3 7 8 9]\n",
            " [3 4 6 0 5 6]]\n"
          ]
        }
      ]
    },
    {
      "cell_type": "code",
      "source": [
        "arr46=concatenate((arr23,arr24),axis=0)\n",
        "print(arr46)"
      ],
      "metadata": {
        "colab": {
          "base_uri": "https://localhost:8080/"
        },
        "id": "6MvvE8eyLQ3R",
        "outputId": "1d7df5ba-abb3-447f-fee1-3827d90a282b"
      },
      "execution_count": 8,
      "outputs": [
        {
          "output_type": "stream",
          "name": "stdout",
          "text": [
            "[[1 2 3]\n",
            " [3 4 6]\n",
            " [7 8 9]\n",
            " [0 5 6]]\n"
          ]
        }
      ]
    },
    {
      "cell_type": "markdown",
      "source": [
        "## Splitting Numpy arrays"
      ],
      "metadata": {
        "id": "HS57fh7uQbgm"
      }
    },
    {
      "cell_type": "code",
      "source": [
        "arr11=array([1,5,7,9,8,0,2,4,2,2])\n",
        "print(array_split(arr1,5))"
      ],
      "metadata": {
        "colab": {
          "base_uri": "https://localhost:8080/"
        },
        "id": "vUbok_9nLQ09",
        "outputId": "c51800d6-4302-4e00-83ef-598dc5757b06"
      },
      "execution_count": 9,
      "outputs": [
        {
          "output_type": "stream",
          "name": "stdout",
          "text": [
            "[array([1, 9]), array([0, 8]), array([7]), array([4]), array([5])]\n"
          ]
        }
      ]
    },
    {
      "cell_type": "code",
      "source": [
        "arr22=array([1,2,3,4,5,6])\n",
        "list1=array_split(arr22,4)\n",
        "print(list1)"
      ],
      "metadata": {
        "colab": {
          "base_uri": "https://localhost:8080/"
        },
        "id": "YxMhDWpdRxNp",
        "outputId": "b5579c07-7cda-499e-9f4d-cf1b51927979"
      },
      "execution_count": 10,
      "outputs": [
        {
          "output_type": "stream",
          "name": "stdout",
          "text": [
            "[array([1, 2]), array([3, 4]), array([5]), array([6])]\n"
          ]
        }
      ]
    },
    {
      "cell_type": "code",
      "source": [
        "print(list1[0])\n",
        "print(list1[1])\n",
        "print(list1[2])\n",
        "print(list1[3])"
      ],
      "metadata": {
        "colab": {
          "base_uri": "https://localhost:8080/"
        },
        "id": "w1vGQYT2Sb0h",
        "outputId": "a28c00af-dd69-416d-8ef5-e1c20838583b"
      },
      "execution_count": 11,
      "outputs": [
        {
          "output_type": "stream",
          "name": "stdout",
          "text": [
            "[1 2]\n",
            "[3 4]\n",
            "[5]\n",
            "[6]\n"
          ]
        }
      ]
    },
    {
      "cell_type": "code",
      "source": [
        "arr33=array([[1,2],[3,4],[5,6],[7,8],[9,10],[11,12]])\n",
        "list2=array_split(arr33,3)\n",
        "print(list2)\n",
        "print(list2[0])\n",
        "print(list2[1])\n",
        "print(list2[2])"
      ],
      "metadata": {
        "colab": {
          "base_uri": "https://localhost:8080/"
        },
        "id": "3eHoZgKuUFev",
        "outputId": "5bee3bd0-4946-4ece-8958-e8e3b689fd02"
      },
      "execution_count": 12,
      "outputs": [
        {
          "output_type": "stream",
          "name": "stdout",
          "text": [
            "[array([[1, 2],\n",
            "       [3, 4]]), array([[5, 6],\n",
            "       [7, 8]]), array([[ 9, 10],\n",
            "       [11, 12]])]\n",
            "[[1 2]\n",
            " [3 4]]\n",
            "[[5 6]\n",
            " [7 8]]\n",
            "[[ 9 10]\n",
            " [11 12]]\n"
          ]
        }
      ]
    },
    {
      "cell_type": "markdown",
      "source": [
        "## `Numpy Array Search`"
      ],
      "metadata": {
        "id": "wpcVfFarXF-m"
      }
    },
    {
      "cell_type": "markdown",
      "source": [
        "where() it return list of index of element which satisfiy condition inside it"
      ],
      "metadata": {
        "id": "B29POU4UYO7g"
      }
    },
    {
      "cell_type": "code",
      "source": [
        "arr23=array([1,2,3,4,5,6,4,4])\n",
        "x=where(arr23==4)\n",
        "print(x)"
      ],
      "metadata": {
        "colab": {
          "base_uri": "https://localhost:8080/"
        },
        "id": "uxe2fmoYVwbW",
        "outputId": "1820621c-1096-42d5-b231-73a138e3686c"
      },
      "execution_count": 13,
      "outputs": [
        {
          "output_type": "stream",
          "name": "stdout",
          "text": [
            "(array([3, 6, 7]),)\n"
          ]
        }
      ]
    },
    {
      "cell_type": "code",
      "source": [
        "# find index of even value\n",
        "var1=array([1,2,3,4,5,6,7,8,9,10])\n",
        "lst=where(var1%2==0)\n",
        "print(lst)\n",
        "\n",
        "#find index of odd value\n",
        "lst1=where(var1%2!=0)\n",
        "print(lst1)"
      ],
      "metadata": {
        "colab": {
          "base_uri": "https://localhost:8080/"
        },
        "id": "yYR94SgMa9_y",
        "outputId": "1190c726-7df3-4752-b554-cba4c86134f9"
      },
      "execution_count": 14,
      "outputs": [
        {
          "output_type": "stream",
          "name": "stdout",
          "text": [
            "(array([1, 3, 5, 7, 9]),)\n",
            "(array([0, 2, 4, 6, 8]),)\n"
          ]
        }
      ]
    },
    {
      "cell_type": "markdown",
      "source": [
        "## Search Sorted\n",
        "\n",
        "There is a method called searchsorted() which performs a binary search in the array, and returns the index where the specified value would be inserted to maintain the search order."
      ],
      "metadata": {
        "id": "c9nDuAmmF7kz"
      }
    },
    {
      "cell_type": "code",
      "source": [
        "from numpy import *\n",
        "arr01=array([1,2,5,6])\n",
        "x=searchsorted(arr01,5)\n",
        "print(x)"
      ],
      "metadata": {
        "colab": {
          "base_uri": "https://localhost:8080/"
        },
        "id": "k3sd5DNHHL_V",
        "outputId": "d02d957c-bdb8-44a3-f417-d8d8c578bcb6"
      },
      "execution_count": 15,
      "outputs": [
        {
          "output_type": "stream",
          "name": "stdout",
          "text": [
            "2\n"
          ]
        }
      ]
    },
    {
      "cell_type": "markdown",
      "source": [
        "if 5 will be in secand index then array will be as sorted as it was\n",
        "\n",
        "`othercase`\n",
        "\n",
        "Q)Find the indexes where the value 7 should be inserted, starting from the right:"
      ],
      "metadata": {
        "id": "QP6q5Qz2mQfb"
      }
    },
    {
      "cell_type": "code",
      "source": [
        "arr02=array([6,7,8,9])\n",
        "z=searchsorted(arr02,7,side=\"right\")\n",
        "print(z)"
      ],
      "metadata": {
        "colab": {
          "base_uri": "https://localhost:8080/"
        },
        "id": "KqXK10_7oU8i",
        "outputId": "1188981b-c36c-48a1-de3c-a78e53a9c8b5"
      },
      "execution_count": 16,
      "outputs": [
        {
          "output_type": "stream",
          "name": "stdout",
          "text": [
            "2\n"
          ]
        }
      ]
    },
    {
      "cell_type": "markdown",
      "source": [
        "For multivalues"
      ],
      "metadata": {
        "id": "zyRE-b6UpMPs"
      }
    },
    {
      "cell_type": "code",
      "source": [
        "arr03=array([1,3,5,7])\n",
        "y=searchsorted(arr03,[2,4,6])\n",
        "print(y)"
      ],
      "metadata": {
        "id": "sE8SEc4-I0SX",
        "colab": {
          "base_uri": "https://localhost:8080/"
        },
        "outputId": "ab353143-702f-43a8-a748-92eab1011317"
      },
      "execution_count": 17,
      "outputs": [
        {
          "output_type": "stream",
          "name": "stdout",
          "text": [
            "[1 2 3]\n"
          ]
        }
      ]
    },
    {
      "cell_type": "markdown",
      "source": [
        "***`Sorting Numpy array`***"
      ],
      "metadata": {
        "id": "cA80ZXcYtV5O"
      }
    },
    {
      "cell_type": "code",
      "source": [
        "arr04=array([1,5,7,0,2])\n",
        "print(sort(arr04))"
      ],
      "metadata": {
        "colab": {
          "base_uri": "https://localhost:8080/"
        },
        "id": "ylvdjNaQtU5e",
        "outputId": "3bdcedad-2831-4747-ebc8-8dac9f6a4416"
      },
      "execution_count": 18,
      "outputs": [
        {
          "output_type": "stream",
          "name": "stdout",
          "text": [
            "[0 1 2 5 7]\n"
          ]
        }
      ]
    },
    {
      "cell_type": "markdown",
      "source": [
        "This method return copy of array leaving the orignal array unchanged"
      ],
      "metadata": {
        "id": "UBscakGgu4lS"
      }
    },
    {
      "cell_type": "code",
      "source": [
        "arr05=array([\"Apple\",\"Riya\",\"Nitya\",\"Haldar\"])\n",
        "print(sort(arr05))"
      ],
      "metadata": {
        "colab": {
          "base_uri": "https://localhost:8080/"
        },
        "id": "kiS11wqluyk5",
        "outputId": "0f9a9c90-a0fd-4d5c-9505-1a5c0fe76ef6"
      },
      "execution_count": 19,
      "outputs": [
        {
          "output_type": "stream",
          "name": "stdout",
          "text": [
            "['Apple' 'Haldar' 'Nitya' 'Riya']\n"
          ]
        }
      ]
    },
    {
      "cell_type": "code",
      "source": [
        "arr06=array([True,False,True])\n",
        "print(sort(arr06))"
      ],
      "metadata": {
        "colab": {
          "base_uri": "https://localhost:8080/"
        },
        "id": "-_OZ0NEW42zo",
        "outputId": "f29784b1-53c6-434d-827c-49b9d6ae94eb"
      },
      "execution_count": 20,
      "outputs": [
        {
          "output_type": "stream",
          "name": "stdout",
          "text": [
            "[False  True  True]\n"
          ]
        }
      ]
    },
    {
      "cell_type": "markdown",
      "source": [
        "In case of two D array each array is sorted individually"
      ],
      "metadata": {
        "id": "RMNkZuv05MxX"
      }
    },
    {
      "cell_type": "code",
      "source": [
        "arr07=array([[1,2,0,3,2],[9,0,8,7,2]])\n",
        "print(sort(arr07))"
      ],
      "metadata": {
        "colab": {
          "base_uri": "https://localhost:8080/"
        },
        "id": "4Jf8DDf15Wy9",
        "outputId": "3d829dad-7756-4b4f-bde4-55d4dec52096"
      },
      "execution_count": 21,
      "outputs": [
        {
          "output_type": "stream",
          "name": "stdout",
          "text": [
            "[[0 1 2 2 3]\n",
            " [0 2 7 8 9]]\n"
          ]
        }
      ]
    },
    {
      "cell_type": "markdown",
      "source": [
        "# *`Filtering array`*\n",
        "\n",
        "Getting some elements out of an existing array and creating a new array out of them is called filtering.\n",
        "\n",
        "In NumPy, you filter an array using a boolean index list.\n",
        "\n",
        "Notes:-A boolean index list is a list of booleans corresponding to indexes in the array.\n",
        "\n"
      ],
      "metadata": {
        "id": "aw7y2Q5I7F9b"
      }
    },
    {
      "cell_type": "code",
      "source": [
        "arr09=array([41,44,99,0,4])\n",
        "xyz=arr09[[True,False,True,True,False]]\n",
        "print(xyz)"
      ],
      "metadata": {
        "colab": {
          "base_uri": "https://localhost:8080/"
        },
        "id": "eDEUy99YolNb",
        "outputId": "17f767d2-da92-484f-e2a7-4f0c5b2e393e"
      },
      "execution_count": 24,
      "outputs": [
        {
          "output_type": "stream",
          "name": "stdout",
          "text": [
            "[41 99  0]\n"
          ]
        }
      ]
    },
    {
      "cell_type": "code",
      "source": [
        "# if you want element from array which is less then 44\n",
        "\n",
        "arr01=array([41,44,40,42,45])\n",
        "xyz1=[]\n",
        "for i in arr01:\n",
        "  if i<44:\n",
        "    xyz1.append(True)\n",
        "  else:\n",
        "    xyz1.append(False)\n",
        "\n",
        "new=arr01[xyz1]\n",
        "print(new)\n",
        "\n",
        "\n"
      ],
      "metadata": {
        "colab": {
          "base_uri": "https://localhost:8080/"
        },
        "id": "wdviSkjiqPvl",
        "outputId": "2e029fe2-58e5-4891-d1c5-b4d9ec019404"
      },
      "execution_count": 28,
      "outputs": [
        {
          "output_type": "stream",
          "name": "stdout",
          "text": [
            "[41 40 42]\n"
          ]
        }
      ]
    },
    {
      "cell_type": "code",
      "source": [
        "#Q find even element from array\n",
        "arr02=array([2,3,4,5,6,7,8])\n",
        "xyz2=[]\n",
        "for i in arr02:\n",
        "  if i%2==0:\n",
        "    xyz2.append(True)\n",
        "  else:\n",
        "    xyz2.append(False)\n",
        "xyz=arr02[xyz2]\n",
        "print(xyz)\n"
      ],
      "metadata": {
        "colab": {
          "base_uri": "https://localhost:8080/"
        },
        "id": "AhNxy_XQtGgt",
        "outputId": "9a208cc3-4cb5-4595-cda0-348bb154b8e8"
      },
      "execution_count": 29,
      "outputs": [
        {
          "output_type": "stream",
          "name": "stdout",
          "text": [
            "[2 4 6 8]\n"
          ]
        }
      ]
    }
  ]
}